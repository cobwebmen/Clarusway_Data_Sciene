{
 "cells": [
  {
   "cell_type": "markdown",
   "id": "3567403b-eeec-4613-9df3-d1f4cff1e985",
   "metadata": {},
   "source": [
    "Write a NumPy program to capitalize the first letter, lowercase, uppercase, swapcase, title-case of all the elements of a given array.\n",
    "\n",
    "\n",
    "Original Array:\n",
    "['clarusway' 'data' 'science' 'bootcamp' 'is' 'the' 'best']"
   ]
  },
  {
   "cell_type": "code",
   "execution_count": 4,
   "id": "29b1722c-56e4-4817-9978-c9b051bf3672",
   "metadata": {},
   "outputs": [
    {
     "name": "stdout",
     "output_type": "stream",
     "text": [
      "['Clarusway' 'Data' 'Science' 'Bootcamp' 'Is' 'The' 'Best']\n",
      "['CLARUSWAY' 'DATA' 'SCIENCE' 'BOOTCAMP' 'IS' 'THE' 'BEST']\n",
      "['CLARUSWAY' 'DATA' 'SCIENCE' 'BOOTCAMP' 'IS' 'THE' 'BEST']\n",
      "['Clarusway' 'Data' 'Science' 'Bootcamp' 'Is' 'The' 'Best']\n"
     ]
    }
   ],
   "source": [
    "import numpy as np\n",
    "a = np.array(['clarusway','data', 'science', 'bootcamp', 'is', 'the', 'best'])\n",
    "print(np.char.capitalize(a))\n",
    "print(np.char.upper(a))\n",
    "print(np.char.swapcase(a))\n",
    "print(np.char.title(a))"
   ]
  },
  {
   "cell_type": "code",
   "execution_count": 8,
   "id": "c22cac1f-10c6-487c-be97-e89f8417d309",
   "metadata": {},
   "outputs": [
    {
     "name": "stdout",
     "output_type": "stream",
     "text": [
      "['clarusway' 'data' 'science' 'bootcamp' 'is' 'the' 'best']\n",
      "\n",
      "['CLARUSWAY' 'DATA' 'SCIENCE' 'BOOTCAMP' 'IS' 'THE' 'BEST']\n",
      "\n",
      "['CLARUSWAY' 'DATA' 'SCIENCE' 'BOOTCAMP' 'IS' 'THE' 'BEST']\n",
      "\n",
      "['Clarusway' 'Data' 'Science' 'Bootcamp' 'Is' 'The' 'Best']\n",
      "\n",
      "['Clarusway' 'Data' 'Science' 'Bootcamp' 'Is' 'The' 'Best']\n"
     ]
    }
   ],
   "source": [
    "array = np.array(['clarusway','data','science','bootcamp','is','the','best'])\n",
    "print(np.char.lower(array),np.char.upper(array),np.char.swapcase(array),np.char.title(array),np.char.capitalize(array),sep=\"\\n\\n\")"
   ]
  },
  {
   "cell_type": "code",
   "execution_count": null,
   "id": "9198560a-4f89-4b0e-bdf0-c98b91293fec",
   "metadata": {},
   "outputs": [],
   "source": []
  }
 ],
 "metadata": {
  "kernelspec": {
   "display_name": "Python 3",
   "language": "python",
   "name": "python3"
  },
  "language_info": {
   "codemirror_mode": {
    "name": "ipython",
    "version": 3
   },
   "file_extension": ".py",
   "mimetype": "text/x-python",
   "name": "python",
   "nbconvert_exporter": "python",
   "pygments_lexer": "ipython3",
   "version": "3.8.8"
  }
 },
 "nbformat": 4,
 "nbformat_minor": 5
}
