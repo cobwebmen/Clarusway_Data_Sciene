{
 "cells": [
  {
   "cell_type": "markdown",
   "id": "9dbe4f0b-2dda-4238-89f3-3b2897d70904",
   "metadata": {},
   "source": [
    "Write a NumPy program to find the set difference of two arrays. The set difference will return the sorted, unique values in array1 that are not in array2.\n",
    "\n",
    "Expected Output:\n",
    "\n",
    "Array1: [ 0 10 20 40 60 80]\n",
    "\n",
    "Array2: [10, 30, 40, 50, 70, 90]\n",
    "\n",
    "Set difference between two arrays: [ 0 20 60 80]"
   ]
  },
  {
   "cell_type": "code",
   "execution_count": 1,
   "id": "aeccd63e-5a1c-4e7b-a514-d38aeb811e99",
   "metadata": {},
   "outputs": [
    {
     "data": {
      "text/plain": [
       "array([ 0, 20, 60, 80])"
      ]
     },
     "execution_count": 1,
     "metadata": {},
     "output_type": "execute_result"
    }
   ],
   "source": [
    "import numpy as np\n",
    "a1 = np.array([0,10,20,40,60,80])\n",
    "a2 = np.array([10,30,40,50,70,90])\n",
    "np.setdiff1d(a1,a2)"
   ]
  },
  {
   "cell_type": "code",
   "execution_count": null,
   "id": "0813b2f5-b042-4800-9727-c8b3d6b4efb2",
   "metadata": {},
   "outputs": [],
   "source": []
  }
 ],
 "metadata": {
  "kernelspec": {
   "display_name": "Python 3",
   "language": "python",
   "name": "python3"
  },
  "language_info": {
   "codemirror_mode": {
    "name": "ipython",
    "version": 3
   },
   "file_extension": ".py",
   "mimetype": "text/x-python",
   "name": "python",
   "nbconvert_exporter": "python",
   "pygments_lexer": "ipython3",
   "version": "3.8.8"
  }
 },
 "nbformat": 4,
 "nbformat_minor": 5
}
