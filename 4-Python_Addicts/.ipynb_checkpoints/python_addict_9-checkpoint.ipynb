{
 "cells": [
  {
   "cell_type": "markdown",
   "id": "7bdb6943-0998-4891-9c87-6dfa211d7443",
   "metadata": {},
   "source": [
    " How to get all the years between  2010 and 2021"
   ]
  },
  {
   "cell_type": "code",
   "execution_count": 1,
   "id": "bbacdbc1-a3c8-41c0-80c3-f58b8d2ca5ca",
   "metadata": {},
   "outputs": [],
   "source": [
    "import numpy as np"
   ]
  },
  {
   "cell_type": "code",
   "execution_count": 8,
   "id": "7e6774fd-bcb3-4924-8f0a-6f01e8af6181",
   "metadata": {},
   "outputs": [
    {
     "name": "stdout",
     "output_type": "stream",
     "text": [
      "['2010' '2011' '2012' '2013' '2014' '2015' '2016' '2017' '2018' '2019'\n",
      " '2020']\n"
     ]
    }
   ],
   "source": [
    "x = np.arange(np.datetime64(\"2010\"),np.datetime64(\"2021\")) \n",
    "print(x)"
   ]
  },
  {
   "cell_type": "code",
   "execution_count": null,
   "id": "b5189009-a712-4705-bcd0-886fe608d6b7",
   "metadata": {},
   "outputs": [],
   "source": []
  }
 ],
 "metadata": {
  "kernelspec": {
   "display_name": "Python 3",
   "language": "python",
   "name": "python3"
  },
  "language_info": {
   "codemirror_mode": {
    "name": "ipython",
    "version": 3
   },
   "file_extension": ".py",
   "mimetype": "text/x-python",
   "name": "python",
   "nbconvert_exporter": "python",
   "pygments_lexer": "ipython3",
   "version": "3.8.8"
  }
 },
 "nbformat": 4,
 "nbformat_minor": 5
}
