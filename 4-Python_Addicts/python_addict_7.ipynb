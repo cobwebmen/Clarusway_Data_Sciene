{
 "cells": [
  {
   "cell_type": "markdown",
   "id": "748322d6-a9ae-4a7d-bfea-958b48e46cb1",
   "metadata": {},
   "source": [
    "Write a NumPy program to count a given word in each row of a given array of string values.\n",
    "\n",
    "Sample output:\n",
    "\n",
    "Original array of string values:\n",
    "\n",
    "[['Python' 'NumPy' 'Exercises']\n",
    "['Python' 'Pandas' 'Exercises']\n",
    "['Python' 'Machine learning' 'Python']]\n",
    "\n",
    "Count 'Python' row wise in the above array of string values:\n",
    "\n",
    "[[1 0 0]\n",
    "[1 0 0]\n",
    "[1 0 1]]"
   ]
  },
  {
   "cell_type": "code",
   "execution_count": 2,
   "id": "9a7cbed4-7e0f-4fe2-bec6-8130a3a943f1",
   "metadata": {},
   "outputs": [
    {
     "name": "stdout",
     "output_type": "stream",
     "text": [
      "[[1 0 0]\n",
      " [1 0 0]\n",
      " [1 0 1]]\n"
     ]
    }
   ],
   "source": [
    "import numpy as np\n",
    "a = np.array([['Python', 'NumPy', 'Exercises'],\n",
    "['Python', 'Pandas', 'Exercises'],\n",
    "['Python', 'Machine learning', 'Python']])\n",
    "print(np.char.count(a, 'Python'))"
   ]
  },
  {
   "cell_type": "code",
   "execution_count": null,
   "id": "9853f638-d728-4e8a-83e6-3ec5658416cc",
   "metadata": {},
   "outputs": [],
   "source": []
  }
 ],
 "metadata": {
  "kernelspec": {
   "display_name": "Python 3",
   "language": "python",
   "name": "python3"
  },
  "language_info": {
   "codemirror_mode": {
    "name": "ipython",
    "version": 3
   },
   "file_extension": ".py",
   "mimetype": "text/x-python",
   "name": "python",
   "nbconvert_exporter": "python",
   "pygments_lexer": "ipython3",
   "version": "3.8.8"
  }
 },
 "nbformat": 4,
 "nbformat_minor": 5
}
