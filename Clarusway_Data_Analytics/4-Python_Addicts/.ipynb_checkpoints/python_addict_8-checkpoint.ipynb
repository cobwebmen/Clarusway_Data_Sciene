{
 "cells": [
  {
   "cell_type": "markdown",
   "id": "a072d76b-f660-4753-8115-a38c41de5fe9",
   "metadata": {},
   "source": [
    "Given this array x = np.array ([- 5,6, -7,9]), transform it into a 2x2 matrix and calculate the maximum and\n",
    "minimum of each row and column. output :\n",
    "\n",
    "[6 9]\n",
    "\n",
    "[-5  9]"
   ]
  },
  {
   "cell_type": "code",
   "execution_count": 3,
   "id": "56c57516-2251-422d-ae2c-91f010d81195",
   "metadata": {},
   "outputs": [
    {
     "data": {
      "text/plain": [
       "array([[-5,  6],\n",
       "       [-7,  9]])"
      ]
     },
     "execution_count": 3,
     "metadata": {},
     "output_type": "execute_result"
    }
   ],
   "source": [
    "import numpy as np\n",
    "x = np.array([-5,6,-7,9]).reshape(2,2)\n",
    "x"
   ]
  },
  {
   "cell_type": "code",
   "execution_count": 4,
   "id": "121a9bd5-035e-4551-bc9b-76069d2bca3e",
   "metadata": {},
   "outputs": [
    {
     "name": "stdout",
     "output_type": "stream",
     "text": [
      "[6 9]\n",
      "[-5  9]\n"
     ]
    }
   ],
   "source": [
    "print(x.max(axis=1))\n",
    "print(x.max(axis=0))"
   ]
  },
  {
   "cell_type": "code",
   "execution_count": null,
   "id": "424d753e-c6ec-4139-9dac-617b52bb7a9f",
   "metadata": {},
   "outputs": [],
   "source": []
  }
 ],
 "metadata": {
  "kernelspec": {
   "display_name": "Python 3",
   "language": "python",
   "name": "python3"
  },
  "language_info": {
   "codemirror_mode": {
    "name": "ipython",
    "version": 3
   },
   "file_extension": ".py",
   "mimetype": "text/x-python",
   "name": "python",
   "nbconvert_exporter": "python",
   "pygments_lexer": "ipython3",
   "version": "3.8.8"
  }
 },
 "nbformat": 4,
 "nbformat_minor": 5
}
