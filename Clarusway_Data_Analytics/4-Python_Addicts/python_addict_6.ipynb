{
 "cells": [
  {
   "cell_type": "markdown",
   "id": "3dca5de4-d84e-4e7b-ad1d-a5fef4dcc8df",
   "metadata": {},
   "source": [
    "How to find the memory size of any array? Create an array and  find its memory."
   ]
  },
  {
   "cell_type": "code",
   "execution_count": 2,
   "id": "6b3b7bfd-01f9-492d-baba-1ef57ea22de7",
   "metadata": {},
   "outputs": [
    {
     "name": "stdout",
     "output_type": "stream",
     "text": [
      "Size of the array:  9\n",
      "Memory size of one array element in bytes:  4\n",
      "Memory size of numpy array in bytes: 36\n"
     ]
    }
   ],
   "source": [
    "import numpy as np\n",
    "  \n",
    "\n",
    "abc = np.array([10,20,30,40,50,60,70,80,90])\n",
    "  \n",
    "print(\"Size of the array: \",\n",
    "      abc.size)\n",
    "  \n",
    "print(\"Memory size of one array element in bytes: \",\n",
    "      abc.itemsize)\n",
    "  \n",
    "print(\"Memory size of numpy array in bytes:\",\n",
    "      abc.size * x.itemsize)"
   ]
  },
  {
   "cell_type": "code",
   "execution_count": null,
   "id": "ae019bd4-7d40-418d-a578-7f1b72a02a9e",
   "metadata": {},
   "outputs": [],
   "source": []
  }
 ],
 "metadata": {
  "kernelspec": {
   "display_name": "Python 3",
   "language": "python",
   "name": "python3"
  },
  "language_info": {
   "codemirror_mode": {
    "name": "ipython",
    "version": 3
   },
   "file_extension": ".py",
   "mimetype": "text/x-python",
   "name": "python",
   "nbconvert_exporter": "python",
   "pygments_lexer": "ipython3",
   "version": "3.8.8"
  }
 },
 "nbformat": 4,
 "nbformat_minor": 5
}
