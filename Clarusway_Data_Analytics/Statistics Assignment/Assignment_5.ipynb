{
  "nbformat": 4,
  "nbformat_minor": 0,
  "metadata": {
    "colab": {
      "name": "Assignment -5.ipynb",
      "provenance": [],
      "collapsed_sections": []
    },
    "kernelspec": {
      "name": "python3",
      "display_name": "Python 3"
    },
    "language_info": {
      "name": "python"
    }
  },
  "cells": [
    {
      "cell_type": "code",
      "metadata": {
        "id": "6RtK0-mTzgDg"
      },
      "source": [
        "import pandas as pd\n",
        "import numpy as np\n",
        "import seaborn as sns\n",
        "import scipy as sp\n",
        "from scipy import stats\n",
        "import math\n",
        "import matplotlib.pyplot as plt\n",
        "import warnings\n",
        "warnings.filterwarnings(\"ignore\")"
      ],
      "execution_count": 1,
      "outputs": []
    },
    {
      "cell_type": "markdown",
      "metadata": {
        "id": "AskdU046zjGv"
      },
      "source": [
        "EXERCISE 1. The hourly wages in a particular industry are normally distributed with mean 13.20 (dollars) and standard deviation 2.50 (dollars). A company in this industry employs 40 workers, paying them an average of 12.20 per hour. Can this company be accused of paying substandard wages? Use an α = .01 level test. (Wackerly, Ex.10.18)"
      ]
    },
    {
      "cell_type": "code",
      "metadata": {
        "id": "ee9-MgDpzkb_"
      },
      "source": [
        "n = 40\n",
        "sigma = 2.50\n",
        "mu = 13.20\n",
        "xbar = 12.20"
      ],
      "execution_count": 2,
      "outputs": []
    },
    {
      "cell_type": "code",
      "metadata": {
        "colab": {
          "base_uri": "https://localhost:8080/"
        },
        "id": "dD-30HPEzuBr",
        "outputId": "64930f95-f80a-4106-920a-a43832ae4372"
      },
      "source": [
        "Z = (xbar - mu) / (sigma / np.sqrt(n))\n",
        "Z"
      ],
      "execution_count": 3,
      "outputs": [
        {
          "output_type": "execute_result",
          "data": {
            "text/plain": [
              "-2.5298221281347035"
            ]
          },
          "metadata": {},
          "execution_count": 3
        }
      ]
    },
    {
      "cell_type": "code",
      "metadata": {
        "colab": {
          "base_uri": "https://localhost:8080/"
        },
        "id": "EhZCZn1Gz02x",
        "outputId": "89393a8d-1417-438a-aa6b-d74acbd057aa"
      },
      "source": [
        "P = stats.norm.cdf(Z) # left side area\n",
        "P"
      ],
      "execution_count": 5,
      "outputs": [
        {
          "output_type": "execute_result",
          "data": {
            "text/plain": [
              "0.005706018193000826"
            ]
          },
          "metadata": {},
          "execution_count": 5
        }
      ]
    },
    {
      "cell_type": "code",
      "metadata": {
        "id": "Qqmj0PRk0Lxs"
      },
      "source": [
        " # (α = 1% --> 1-99%)\n",
        "alpha = 0.01  "
      ],
      "execution_count": 6,
      "outputs": []
    },
    {
      "cell_type": "code",
      "metadata": {
        "id": "7Ygj5sFY0QZJ"
      },
      "source": [
        "## WE CAN SAY __Reject the Null__ BECAUSE IT IS LARGER THAN ALPHA P VALUE"
      ],
      "execution_count": 7,
      "outputs": []
    },
    {
      "cell_type": "code",
      "metadata": {
        "id": "2odAKD560g5o"
      },
      "source": [
        ""
      ],
      "execution_count": null,
      "outputs": []
    },
    {
      "cell_type": "code",
      "metadata": {
        "id": "WvAf0ksT0lML"
      },
      "source": [
        ""
      ],
      "execution_count": null,
      "outputs": []
    },
    {
      "cell_type": "markdown",
      "metadata": {
        "id": "L5w5_E910mIU"
      },
      "source": [
        "EXERCISE 2.Shear strength measurements derived from unconfined compression tests for two types of soils gave the results shown in the following document (measurements in tons per square foot). Do the soils appear to differ with respect to average shear strength, at the 1% significance level?"
      ]
    },
    {
      "cell_type": "code",
      "metadata": {
        "id": "P1mwWF-z0m6g"
      },
      "source": [
        "α = 0.01"
      ],
      "execution_count": 8,
      "outputs": []
    },
    {
      "cell_type": "code",
      "metadata": {
        "colab": {
          "base_uri": "https://localhost:8080/",
          "height": 202
        },
        "id": "YHqIyzIR0xoE",
        "outputId": "3e764c83-02ca-43f9-f3e4-b3c59bdd96e7"
      },
      "source": [
        "soil = pd.read_csv(\"soil - Sheet1.csv\")\n",
        "soil.head()"
      ],
      "execution_count": 9,
      "outputs": [
        {
          "output_type": "execute_result",
          "data": {
            "text/html": [
              "<div>\n",
              "<style scoped>\n",
              "    .dataframe tbody tr th:only-of-type {\n",
              "        vertical-align: middle;\n",
              "    }\n",
              "\n",
              "    .dataframe tbody tr th {\n",
              "        vertical-align: top;\n",
              "    }\n",
              "\n",
              "    .dataframe thead th {\n",
              "        text-align: right;\n",
              "    }\n",
              "</style>\n",
              "<table border=\"1\" class=\"dataframe\">\n",
              "  <thead>\n",
              "    <tr style=\"text-align: right;\">\n",
              "      <th></th>\n",
              "      <th>Soil1</th>\n",
              "      <th>Soil2</th>\n",
              "    </tr>\n",
              "  </thead>\n",
              "  <tbody>\n",
              "    <tr>\n",
              "      <th>0</th>\n",
              "      <td>1.442</td>\n",
              "      <td>1.364</td>\n",
              "    </tr>\n",
              "    <tr>\n",
              "      <th>1</th>\n",
              "      <td>1.943</td>\n",
              "      <td>1.878</td>\n",
              "    </tr>\n",
              "    <tr>\n",
              "      <th>2</th>\n",
              "      <td>1.110</td>\n",
              "      <td>1.337</td>\n",
              "    </tr>\n",
              "    <tr>\n",
              "      <th>3</th>\n",
              "      <td>1.912</td>\n",
              "      <td>1.828</td>\n",
              "    </tr>\n",
              "    <tr>\n",
              "      <th>4</th>\n",
              "      <td>1.553</td>\n",
              "      <td>1.371</td>\n",
              "    </tr>\n",
              "  </tbody>\n",
              "</table>\n",
              "</div>"
            ],
            "text/plain": [
              "   Soil1  Soil2\n",
              "0  1.442  1.364\n",
              "1  1.943  1.878\n",
              "2  1.110  1.337\n",
              "3  1.912  1.828\n",
              "4  1.553  1.371"
            ]
          },
          "metadata": {},
          "execution_count": 9
        }
      ]
    },
    {
      "cell_type": "code",
      "metadata": {
        "colab": {
          "base_uri": "https://localhost:8080/",
          "height": 1000
        },
        "id": "JbuepcYE1lqS",
        "outputId": "2ef9a4d3-bf4a-4dd5-aa4b-f097b26264c9"
      },
      "source": [
        "soil.isnull()"
      ],
      "execution_count": 13,
      "outputs": [
        {
          "output_type": "execute_result",
          "data": {
            "text/html": [
              "<div>\n",
              "<style scoped>\n",
              "    .dataframe tbody tr th:only-of-type {\n",
              "        vertical-align: middle;\n",
              "    }\n",
              "\n",
              "    .dataframe tbody tr th {\n",
              "        vertical-align: top;\n",
              "    }\n",
              "\n",
              "    .dataframe thead th {\n",
              "        text-align: right;\n",
              "    }\n",
              "</style>\n",
              "<table border=\"1\" class=\"dataframe\">\n",
              "  <thead>\n",
              "    <tr style=\"text-align: right;\">\n",
              "      <th></th>\n",
              "      <th>Soil1</th>\n",
              "      <th>Soil2</th>\n",
              "    </tr>\n",
              "  </thead>\n",
              "  <tbody>\n",
              "    <tr>\n",
              "      <th>0</th>\n",
              "      <td>False</td>\n",
              "      <td>False</td>\n",
              "    </tr>\n",
              "    <tr>\n",
              "      <th>1</th>\n",
              "      <td>False</td>\n",
              "      <td>False</td>\n",
              "    </tr>\n",
              "    <tr>\n",
              "      <th>2</th>\n",
              "      <td>False</td>\n",
              "      <td>False</td>\n",
              "    </tr>\n",
              "    <tr>\n",
              "      <th>3</th>\n",
              "      <td>False</td>\n",
              "      <td>False</td>\n",
              "    </tr>\n",
              "    <tr>\n",
              "      <th>4</th>\n",
              "      <td>False</td>\n",
              "      <td>False</td>\n",
              "    </tr>\n",
              "    <tr>\n",
              "      <th>5</th>\n",
              "      <td>False</td>\n",
              "      <td>False</td>\n",
              "    </tr>\n",
              "    <tr>\n",
              "      <th>6</th>\n",
              "      <td>False</td>\n",
              "      <td>False</td>\n",
              "    </tr>\n",
              "    <tr>\n",
              "      <th>7</th>\n",
              "      <td>False</td>\n",
              "      <td>False</td>\n",
              "    </tr>\n",
              "    <tr>\n",
              "      <th>8</th>\n",
              "      <td>False</td>\n",
              "      <td>False</td>\n",
              "    </tr>\n",
              "    <tr>\n",
              "      <th>9</th>\n",
              "      <td>False</td>\n",
              "      <td>False</td>\n",
              "    </tr>\n",
              "    <tr>\n",
              "      <th>10</th>\n",
              "      <td>False</td>\n",
              "      <td>False</td>\n",
              "    </tr>\n",
              "    <tr>\n",
              "      <th>11</th>\n",
              "      <td>False</td>\n",
              "      <td>False</td>\n",
              "    </tr>\n",
              "    <tr>\n",
              "      <th>12</th>\n",
              "      <td>False</td>\n",
              "      <td>False</td>\n",
              "    </tr>\n",
              "    <tr>\n",
              "      <th>13</th>\n",
              "      <td>False</td>\n",
              "      <td>False</td>\n",
              "    </tr>\n",
              "    <tr>\n",
              "      <th>14</th>\n",
              "      <td>False</td>\n",
              "      <td>False</td>\n",
              "    </tr>\n",
              "    <tr>\n",
              "      <th>15</th>\n",
              "      <td>False</td>\n",
              "      <td>False</td>\n",
              "    </tr>\n",
              "    <tr>\n",
              "      <th>16</th>\n",
              "      <td>False</td>\n",
              "      <td>False</td>\n",
              "    </tr>\n",
              "    <tr>\n",
              "      <th>17</th>\n",
              "      <td>False</td>\n",
              "      <td>False</td>\n",
              "    </tr>\n",
              "    <tr>\n",
              "      <th>18</th>\n",
              "      <td>False</td>\n",
              "      <td>False</td>\n",
              "    </tr>\n",
              "    <tr>\n",
              "      <th>19</th>\n",
              "      <td>False</td>\n",
              "      <td>False</td>\n",
              "    </tr>\n",
              "    <tr>\n",
              "      <th>20</th>\n",
              "      <td>False</td>\n",
              "      <td>False</td>\n",
              "    </tr>\n",
              "    <tr>\n",
              "      <th>21</th>\n",
              "      <td>False</td>\n",
              "      <td>False</td>\n",
              "    </tr>\n",
              "    <tr>\n",
              "      <th>22</th>\n",
              "      <td>False</td>\n",
              "      <td>False</td>\n",
              "    </tr>\n",
              "    <tr>\n",
              "      <th>23</th>\n",
              "      <td>False</td>\n",
              "      <td>False</td>\n",
              "    </tr>\n",
              "    <tr>\n",
              "      <th>24</th>\n",
              "      <td>False</td>\n",
              "      <td>False</td>\n",
              "    </tr>\n",
              "    <tr>\n",
              "      <th>25</th>\n",
              "      <td>False</td>\n",
              "      <td>False</td>\n",
              "    </tr>\n",
              "    <tr>\n",
              "      <th>26</th>\n",
              "      <td>False</td>\n",
              "      <td>False</td>\n",
              "    </tr>\n",
              "    <tr>\n",
              "      <th>27</th>\n",
              "      <td>False</td>\n",
              "      <td>False</td>\n",
              "    </tr>\n",
              "    <tr>\n",
              "      <th>28</th>\n",
              "      <td>False</td>\n",
              "      <td>False</td>\n",
              "    </tr>\n",
              "    <tr>\n",
              "      <th>29</th>\n",
              "      <td>False</td>\n",
              "      <td>False</td>\n",
              "    </tr>\n",
              "    <tr>\n",
              "      <th>30</th>\n",
              "      <td>True</td>\n",
              "      <td>False</td>\n",
              "    </tr>\n",
              "    <tr>\n",
              "      <th>31</th>\n",
              "      <td>True</td>\n",
              "      <td>False</td>\n",
              "    </tr>\n",
              "    <tr>\n",
              "      <th>32</th>\n",
              "      <td>True</td>\n",
              "      <td>False</td>\n",
              "    </tr>\n",
              "    <tr>\n",
              "      <th>33</th>\n",
              "      <td>True</td>\n",
              "      <td>False</td>\n",
              "    </tr>\n",
              "    <tr>\n",
              "      <th>34</th>\n",
              "      <td>True</td>\n",
              "      <td>False</td>\n",
              "    </tr>\n",
              "  </tbody>\n",
              "</table>\n",
              "</div>"
            ],
            "text/plain": [
              "    Soil1  Soil2\n",
              "0   False  False\n",
              "1   False  False\n",
              "2   False  False\n",
              "3   False  False\n",
              "4   False  False\n",
              "5   False  False\n",
              "6   False  False\n",
              "7   False  False\n",
              "8   False  False\n",
              "9   False  False\n",
              "10  False  False\n",
              "11  False  False\n",
              "12  False  False\n",
              "13  False  False\n",
              "14  False  False\n",
              "15  False  False\n",
              "16  False  False\n",
              "17  False  False\n",
              "18  False  False\n",
              "19  False  False\n",
              "20  False  False\n",
              "21  False  False\n",
              "22  False  False\n",
              "23  False  False\n",
              "24  False  False\n",
              "25  False  False\n",
              "26  False  False\n",
              "27  False  False\n",
              "28  False  False\n",
              "29  False  False\n",
              "30   True  False\n",
              "31   True  False\n",
              "32   True  False\n",
              "33   True  False\n",
              "34   True  False"
            ]
          },
          "metadata": {},
          "execution_count": 13
        }
      ]
    },
    {
      "cell_type": "code",
      "metadata": {
        "colab": {
          "base_uri": "https://localhost:8080/"
        },
        "id": "o_5mWe1t1M6R",
        "outputId": "07bf9575-c851-4644-d714-feba4a443122"
      },
      "source": [
        "soil[\"Soil1\"].mean()"
      ],
      "execution_count": 10,
      "outputs": [
        {
          "output_type": "execute_result",
          "data": {
            "text/plain": [
              "1.6918"
            ]
          },
          "metadata": {},
          "execution_count": 10
        }
      ]
    },
    {
      "cell_type": "code",
      "metadata": {
        "colab": {
          "base_uri": "https://localhost:8080/"
        },
        "id": "zsHswo_X1Ojt",
        "outputId": "8c77056e-3971-4c75-e543-6973b887c10b"
      },
      "source": [
        "soil[\"Soil2\"].mean()"
      ],
      "execution_count": 11,
      "outputs": [
        {
          "output_type": "execute_result",
          "data": {
            "text/plain": [
              "1.4171142857142858"
            ]
          },
          "metadata": {},
          "execution_count": 11
        }
      ]
    },
    {
      "cell_type": "code",
      "metadata": {
        "colab": {
          "base_uri": "https://localhost:8080/"
        },
        "id": "hurgTGQe1QPv",
        "outputId": "a4d95ba9-cb4c-4414-cf54-9ad3abd967e3"
      },
      "source": [
        "stats.ttest_ind(soil[\"Soil1\"], soil[\"Soil2\"])"
      ],
      "execution_count": 12,
      "outputs": [
        {
          "output_type": "execute_result",
          "data": {
            "text/plain": [
              "Ttest_indResult(statistic=nan, pvalue=nan)"
            ]
          },
          "metadata": {},
          "execution_count": 12
        }
      ]
    },
    {
      "cell_type": "code",
      "metadata": {
        "colab": {
          "base_uri": "https://localhost:8080/"
        },
        "id": "SYHC_Sen1syB",
        "outputId": "80c2f604-dccc-40d9-befa-80ae6f230457"
      },
      "source": [
        "indTest = stats.ttest_ind(soil[\"Soil1\"], soil[\"Soil2\"], nan_policy='omit')\n",
        "\n",
        "indTest"
      ],
      "execution_count": 14,
      "outputs": [
        {
          "output_type": "execute_result",
          "data": {
            "text/plain": [
              "Ttest_indResult(statistic=5.1681473319343345, pvalue=2.5932287323528147e-06)"
            ]
          },
          "metadata": {},
          "execution_count": 14
        }
      ]
    },
    {
      "cell_type": "code",
      "metadata": {
        "colab": {
          "base_uri": "https://localhost:8080/"
        },
        "id": "HQ357x3v10Ko",
        "outputId": "1e713e20-5c3b-4a7c-95cb-7244b5d47726"
      },
      "source": [
        "t = indTest.statistic\n",
        "t"
      ],
      "execution_count": 15,
      "outputs": [
        {
          "output_type": "execute_result",
          "data": {
            "text/plain": [
              "5.1681473319343345"
            ]
          },
          "metadata": {},
          "execution_count": 15
        }
      ]
    },
    {
      "cell_type": "code",
      "metadata": {
        "colab": {
          "base_uri": "https://localhost:8080/"
        },
        "id": "Qh4_OpKP11-B",
        "outputId": "42bae2b9-9008-4213-af26-5248e6a640e5"
      },
      "source": [
        "p_value = indTest.pvalue\n",
        "p_value"
      ],
      "execution_count": 16,
      "outputs": [
        {
          "output_type": "execute_result",
          "data": {
            "text/plain": [
              "2.5932287323528147e-06"
            ]
          },
          "metadata": {},
          "execution_count": 16
        }
      ]
    },
    {
      "cell_type": "code",
      "metadata": {
        "id": "2apdIQaM2C05"
      },
      "source": [
        "# alpha/2 = 0.005\n",
        "alpha = 0.01     \n",
        "\n",
        "## __Reject the Null__"
      ],
      "execution_count": 18,
      "outputs": []
    },
    {
      "cell_type": "markdown",
      "metadata": {
        "id": "aQ1_kn7L2Mgw"
      },
      "source": [
        "EXERCISE 3. The following dataset is based on data provided by the World Bank (https://datacatalog.worldbank.org/dataset/education-statistics). World Bank Edstats.  2015 PISA Test Dataset\n",
        "\n",
        "Get descriptive statistics (the central tendency, dispersion and shape of a dataset’s distribution) for each continent group (AS, EU, AF, NA, SA, OC).\n",
        "Determine whether there is any difference (on the average) for the math scores among European (EU) and Asian (AS) countries (assume normality and equal variances). Draw side-by-side box plots.\n",
        "CHECK: statistic=0.870055317967983, pvalue=0.38826888111307345"
      ]
    },
    {
      "cell_type": "code",
      "metadata": {
        "colab": {
          "base_uri": "https://localhost:8080/",
          "height": 202
        },
        "id": "4dNq5HFH2TCU",
        "outputId": "86ffac8f-1fde-46ce-dac2-a8960a9c5458"
      },
      "source": [
        "pisa = pd.read_csv(\"/content/2015 PISA Test - Sheet1.csv\")\n",
        "pisa.head()"
      ],
      "execution_count": 50,
      "outputs": [
        {
          "output_type": "execute_result",
          "data": {
            "text/html": [
              "<div>\n",
              "<style scoped>\n",
              "    .dataframe tbody tr th:only-of-type {\n",
              "        vertical-align: middle;\n",
              "    }\n",
              "\n",
              "    .dataframe tbody tr th {\n",
              "        vertical-align: top;\n",
              "    }\n",
              "\n",
              "    .dataframe thead th {\n",
              "        text-align: right;\n",
              "    }\n",
              "</style>\n",
              "<table border=\"1\" class=\"dataframe\">\n",
              "  <thead>\n",
              "    <tr style=\"text-align: right;\">\n",
              "      <th></th>\n",
              "      <th>Country Code</th>\n",
              "      <th>Continent_Code</th>\n",
              "      <th>internet_users_per_100</th>\n",
              "      <th>Math</th>\n",
              "      <th>Reading</th>\n",
              "      <th>Science</th>\n",
              "    </tr>\n",
              "  </thead>\n",
              "  <tbody>\n",
              "    <tr>\n",
              "      <th>0</th>\n",
              "      <td>ALB</td>\n",
              "      <td>EU</td>\n",
              "      <td>63.252933</td>\n",
              "      <td>413.1570</td>\n",
              "      <td>405.2588</td>\n",
              "      <td>427.2250</td>\n",
              "    </tr>\n",
              "    <tr>\n",
              "      <th>1</th>\n",
              "      <td>ARE</td>\n",
              "      <td>AS</td>\n",
              "      <td>90.500000</td>\n",
              "      <td>427.4827</td>\n",
              "      <td>433.5423</td>\n",
              "      <td>436.7311</td>\n",
              "    </tr>\n",
              "    <tr>\n",
              "      <th>2</th>\n",
              "      <td>ARG</td>\n",
              "      <td>SA</td>\n",
              "      <td>68.043064</td>\n",
              "      <td>409.0333</td>\n",
              "      <td>425.3031</td>\n",
              "      <td>432.2262</td>\n",
              "    </tr>\n",
              "    <tr>\n",
              "      <th>3</th>\n",
              "      <td>AUS</td>\n",
              "      <td>OC</td>\n",
              "      <td>84.560519</td>\n",
              "      <td>493.8962</td>\n",
              "      <td>502.9006</td>\n",
              "      <td>509.9939</td>\n",
              "    </tr>\n",
              "    <tr>\n",
              "      <th>4</th>\n",
              "      <td>AUT</td>\n",
              "      <td>EU</td>\n",
              "      <td>83.940142</td>\n",
              "      <td>496.7423</td>\n",
              "      <td>484.8656</td>\n",
              "      <td>495.0375</td>\n",
              "    </tr>\n",
              "  </tbody>\n",
              "</table>\n",
              "</div>"
            ],
            "text/plain": [
              "  Country Code Continent_Code  ...   Reading   Science\n",
              "0          ALB             EU  ...  405.2588  427.2250\n",
              "1          ARE             AS  ...  433.5423  436.7311\n",
              "2          ARG             SA  ...  425.3031  432.2262\n",
              "3          AUS             OC  ...  502.9006  509.9939\n",
              "4          AUT             EU  ...  484.8656  495.0375\n",
              "\n",
              "[5 rows x 6 columns]"
            ]
          },
          "metadata": {},
          "execution_count": 50
        }
      ]
    },
    {
      "cell_type": "code",
      "metadata": {
        "colab": {
          "base_uri": "https://localhost:8080/",
          "height": 294
        },
        "id": "woV7tht74GXN",
        "outputId": "608923e5-92d4-45f0-b539-e34f381d7f4d"
      },
      "source": [
        "pisa.describe()"
      ],
      "execution_count": 51,
      "outputs": [
        {
          "output_type": "execute_result",
          "data": {
            "text/html": [
              "<div>\n",
              "<style scoped>\n",
              "    .dataframe tbody tr th:only-of-type {\n",
              "        vertical-align: middle;\n",
              "    }\n",
              "\n",
              "    .dataframe tbody tr th {\n",
              "        vertical-align: top;\n",
              "    }\n",
              "\n",
              "    .dataframe thead th {\n",
              "        text-align: right;\n",
              "    }\n",
              "</style>\n",
              "<table border=\"1\" class=\"dataframe\">\n",
              "  <thead>\n",
              "    <tr style=\"text-align: right;\">\n",
              "      <th></th>\n",
              "      <th>internet_users_per_100</th>\n",
              "      <th>Math</th>\n",
              "      <th>Reading</th>\n",
              "      <th>Science</th>\n",
              "    </tr>\n",
              "  </thead>\n",
              "  <tbody>\n",
              "    <tr>\n",
              "      <th>count</th>\n",
              "      <td>70.000000</td>\n",
              "      <td>70.000000</td>\n",
              "      <td>70.000000</td>\n",
              "      <td>70.000000</td>\n",
              "    </tr>\n",
              "    <tr>\n",
              "      <th>mean</th>\n",
              "      <td>71.973099</td>\n",
              "      <td>460.971557</td>\n",
              "      <td>460.997291</td>\n",
              "      <td>465.439093</td>\n",
              "    </tr>\n",
              "    <tr>\n",
              "      <th>std</th>\n",
              "      <td>16.390632</td>\n",
              "      <td>53.327205</td>\n",
              "      <td>49.502679</td>\n",
              "      <td>48.397254</td>\n",
              "    </tr>\n",
              "    <tr>\n",
              "      <th>min</th>\n",
              "      <td>21.976068</td>\n",
              "      <td>327.702000</td>\n",
              "      <td>346.549000</td>\n",
              "      <td>331.638800</td>\n",
              "    </tr>\n",
              "    <tr>\n",
              "      <th>25%</th>\n",
              "      <td>60.899020</td>\n",
              "      <td>417.416075</td>\n",
              "      <td>426.948625</td>\n",
              "      <td>425.923375</td>\n",
              "    </tr>\n",
              "    <tr>\n",
              "      <th>50%</th>\n",
              "      <td>72.999350</td>\n",
              "      <td>477.607150</td>\n",
              "      <td>480.199850</td>\n",
              "      <td>475.400050</td>\n",
              "    </tr>\n",
              "    <tr>\n",
              "      <th>75%</th>\n",
              "      <td>85.026763</td>\n",
              "      <td>500.482925</td>\n",
              "      <td>499.687475</td>\n",
              "      <td>502.431250</td>\n",
              "    </tr>\n",
              "    <tr>\n",
              "      <th>max</th>\n",
              "      <td>98.200000</td>\n",
              "      <td>564.189700</td>\n",
              "      <td>535.100200</td>\n",
              "      <td>555.574700</td>\n",
              "    </tr>\n",
              "  </tbody>\n",
              "</table>\n",
              "</div>"
            ],
            "text/plain": [
              "       internet_users_per_100        Math     Reading     Science\n",
              "count               70.000000   70.000000   70.000000   70.000000\n",
              "mean                71.973099  460.971557  460.997291  465.439093\n",
              "std                 16.390632   53.327205   49.502679   48.397254\n",
              "min                 21.976068  327.702000  346.549000  331.638800\n",
              "25%                 60.899020  417.416075  426.948625  425.923375\n",
              "50%                 72.999350  477.607150  480.199850  475.400050\n",
              "75%                 85.026763  500.482925  499.687475  502.431250\n",
              "max                 98.200000  564.189700  535.100200  555.574700"
            ]
          },
          "metadata": {},
          "execution_count": 51
        }
      ]
    },
    {
      "cell_type": "code",
      "metadata": {
        "colab": {
          "base_uri": "https://localhost:8080/"
        },
        "id": "66NnvjTx8FTL",
        "outputId": "3a8a2c8b-7800-4a53-e4b0-68fdc0798bea"
      },
      "source": [
        "pisa.Continent_Code.unique()"
      ],
      "execution_count": 52,
      "outputs": [
        {
          "output_type": "execute_result",
          "data": {
            "text/plain": [
              "array(['EU', 'AS', 'SA', 'OC', nan, 'AF'], dtype=object)"
            ]
          },
          "metadata": {},
          "execution_count": 52
        }
      ]
    },
    {
      "cell_type": "code",
      "metadata": {
        "id": "4WfIgeAy8FQy"
      },
      "source": [
        "#because of \"nan\"\n",
        "pisa['Continent_Code'].fillna(value='NA', inplace = True)"
      ],
      "execution_count": 53,
      "outputs": []
    },
    {
      "cell_type": "code",
      "metadata": {
        "colab": {
          "base_uri": "https://localhost:8080/",
          "height": 496
        },
        "id": "xuJOdet18FOv",
        "outputId": "760a7f4b-0644-4fe0-ba58-676de597bd1e"
      },
      "source": [
        "#distribute the PISA scores\n",
        "fig, axes = plt.subplots(2,2, figsize=(20,8))\n",
        "\n",
        "sns.histplot(pisa['internet_users_per_100'], kde=True, ax=axes[0,0])\n",
        "sns.histplot(pisa['Math'], kde=True, ax=axes[0,1])\n",
        "sns.histplot(pisa['Reading'], kde=True, ax=axes[1,0])\n",
        "sns.histplot(pisa['Science'], kde=True, ax=axes[1,1]);"
      ],
      "execution_count": 55,
      "outputs": [
        {
          "output_type": "display_data",
          "data": {
            "image/png": "[encoded data removed]",
            "text/plain": [
              "<Figure size 1440x576 with 4 Axes>"
            ]
          },
          "metadata": {
            "needs_background": "light"
          }
        }
      ]
    },
    {
      "cell_type": "code",
      "metadata": {
        "colab": {
          "base_uri": "https://localhost:8080/",
          "height": 725
        },
        "id": "L0zGq4Hi8FMP",
        "outputId": "9074aeb7-bd68-4767-d911-d100860f0ba4"
      },
      "source": [
        "sns.pairplot(pisa, hue = 'Continent_Code');"
      ],
      "execution_count": 58,
      "outputs": [
        {
          "output_type": "display_data",
          "data": {
            "image/png": "[encoded data removed]",
            "text/plain": [
              "<Figure size 807.125x720 with 20 Axes>"
            ]
          },
          "metadata": {
            "needs_background": "light"
          }
        }
      ]
    },
    {
      "cell_type": "markdown",
      "metadata": {
        "id": "Ip-7Ge2N86qC"
      },
      "source": [
        "## ***EU***"
      ]
    },
    {
      "cell_type": "code",
      "metadata": {
        "colab": {
          "base_uri": "https://localhost:8080/",
          "height": 202
        },
        "id": "cvIE9nU98FJP",
        "outputId": "0d9ae801-317a-44d8-c364-d7d8f181944f"
      },
      "source": [
        "EU = pisa[pisa[\"Continent_Code\"]==\"EU\"]\n",
        "EU.head()"
      ],
      "execution_count": 59,
      "outputs": [
        {
          "output_type": "execute_result",
          "data": {
            "text/html": [
              "<div>\n",
              "<style scoped>\n",
              "    .dataframe tbody tr th:only-of-type {\n",
              "        vertical-align: middle;\n",
              "    }\n",
              "\n",
              "    .dataframe tbody tr th {\n",
              "        vertical-align: top;\n",
              "    }\n",
              "\n",
              "    .dataframe thead th {\n",
              "        text-align: right;\n",
              "    }\n",
              "</style>\n",
              "<table border=\"1\" class=\"dataframe\">\n",
              "  <thead>\n",
              "    <tr style=\"text-align: right;\">\n",
              "      <th></th>\n",
              "      <th>Country Code</th>\n",
              "      <th>Continent_Code</th>\n",
              "      <th>internet_users_per_100</th>\n",
              "      <th>Math</th>\n",
              "      <th>Reading</th>\n",
              "      <th>Science</th>\n",
              "    </tr>\n",
              "  </thead>\n",
              "  <tbody>\n",
              "    <tr>\n",
              "      <th>0</th>\n",
              "      <td>ALB</td>\n",
              "      <td>EU</td>\n",
              "      <td>63.252933</td>\n",
              "      <td>413.1570</td>\n",
              "      <td>405.2588</td>\n",
              "      <td>427.2250</td>\n",
              "    </tr>\n",
              "    <tr>\n",
              "      <th>4</th>\n",
              "      <td>AUT</td>\n",
              "      <td>EU</td>\n",
              "      <td>83.940142</td>\n",
              "      <td>496.7423</td>\n",
              "      <td>484.8656</td>\n",
              "      <td>495.0375</td>\n",
              "    </tr>\n",
              "    <tr>\n",
              "      <th>5</th>\n",
              "      <td>BEL</td>\n",
              "      <td>EU</td>\n",
              "      <td>85.052900</td>\n",
              "      <td>506.9844</td>\n",
              "      <td>498.5242</td>\n",
              "      <td>501.9997</td>\n",
              "    </tr>\n",
              "    <tr>\n",
              "      <th>6</th>\n",
              "      <td>BGR</td>\n",
              "      <td>EU</td>\n",
              "      <td>56.656300</td>\n",
              "      <td>441.1899</td>\n",
              "      <td>431.7175</td>\n",
              "      <td>445.7720</td>\n",
              "    </tr>\n",
              "    <tr>\n",
              "      <th>9</th>\n",
              "      <td>CHE</td>\n",
              "      <td>EU</td>\n",
              "      <td>87.479056</td>\n",
              "      <td>521.2506</td>\n",
              "      <td>492.1982</td>\n",
              "      <td>505.5058</td>\n",
              "    </tr>\n",
              "  </tbody>\n",
              "</table>\n",
              "</div>"
            ],
            "text/plain": [
              "  Country Code Continent_Code  ...   Reading   Science\n",
              "0          ALB             EU  ...  405.2588  427.2250\n",
              "4          AUT             EU  ...  484.8656  495.0375\n",
              "5          BEL             EU  ...  498.5242  501.9997\n",
              "6          BGR             EU  ...  431.7175  445.7720\n",
              "9          CHE             EU  ...  492.1982  505.5058\n",
              "\n",
              "[5 rows x 6 columns]"
            ]
          },
          "metadata": {},
          "execution_count": 59
        }
      ]
    },
    {
      "cell_type": "code",
      "metadata": {
        "colab": {
          "base_uri": "https://localhost:8080/",
          "height": 294
        },
        "id": "dyvavLnl8FFl",
        "outputId": "36438b89-f759-447a-d9ed-1103a451c5fb"
      },
      "source": [
        "EU.describe()"
      ],
      "execution_count": 60,
      "outputs": [
        {
          "output_type": "execute_result",
          "data": {
            "text/html": [
              "<div>\n",
              "<style scoped>\n",
              "    .dataframe tbody tr th:only-of-type {\n",
              "        vertical-align: middle;\n",
              "    }\n",
              "\n",
              "    .dataframe tbody tr th {\n",
              "        vertical-align: top;\n",
              "    }\n",
              "\n",
              "    .dataframe thead th {\n",
              "        text-align: right;\n",
              "    }\n",
              "</style>\n",
              "<table border=\"1\" class=\"dataframe\">\n",
              "  <thead>\n",
              "    <tr style=\"text-align: right;\">\n",
              "      <th></th>\n",
              "      <th>internet_users_per_100</th>\n",
              "      <th>Math</th>\n",
              "      <th>Reading</th>\n",
              "      <th>Science</th>\n",
              "    </tr>\n",
              "  </thead>\n",
              "  <tbody>\n",
              "    <tr>\n",
              "      <th>count</th>\n",
              "      <td>37.000000</td>\n",
              "      <td>37.000000</td>\n",
              "      <td>37.000000</td>\n",
              "      <td>37.000000</td>\n",
              "    </tr>\n",
              "    <tr>\n",
              "      <th>mean</th>\n",
              "      <td>77.274888</td>\n",
              "      <td>477.981449</td>\n",
              "      <td>476.164608</td>\n",
              "      <td>478.299381</td>\n",
              "    </tr>\n",
              "    <tr>\n",
              "      <th>std</th>\n",
              "      <td>12.425773</td>\n",
              "      <td>35.150403</td>\n",
              "      <td>37.720545</td>\n",
              "      <td>34.450616</td>\n",
              "    </tr>\n",
              "    <tr>\n",
              "      <th>min</th>\n",
              "      <td>53.744979</td>\n",
              "      <td>371.311400</td>\n",
              "      <td>351.741500</td>\n",
              "      <td>383.682400</td>\n",
              "    </tr>\n",
              "    <tr>\n",
              "      <th>25%</th>\n",
              "      <td>68.632900</td>\n",
              "      <td>464.040100</td>\n",
              "      <td>452.514300</td>\n",
              "      <td>460.774900</td>\n",
              "    </tr>\n",
              "    <tr>\n",
              "      <th>50%</th>\n",
              "      <td>76.184000</td>\n",
              "      <td>489.728700</td>\n",
              "      <td>487.250100</td>\n",
              "      <td>490.225000</td>\n",
              "    </tr>\n",
              "    <tr>\n",
              "      <th>75%</th>\n",
              "      <td>87.479056</td>\n",
              "      <td>503.722000</td>\n",
              "      <td>499.814600</td>\n",
              "      <td>501.936900</td>\n",
              "    </tr>\n",
              "    <tr>\n",
              "      <th>max</th>\n",
              "      <td>98.200000</td>\n",
              "      <td>521.250600</td>\n",
              "      <td>526.424700</td>\n",
              "      <td>534.193700</td>\n",
              "    </tr>\n",
              "  </tbody>\n",
              "</table>\n",
              "</div>"
            ],
            "text/plain": [
              "       internet_users_per_100        Math     Reading     Science\n",
              "count               37.000000   37.000000   37.000000   37.000000\n",
              "mean                77.274888  477.981449  476.164608  478.299381\n",
              "std                 12.425773   35.150403   37.720545   34.450616\n",
              "min                 53.744979  371.311400  351.741500  383.682400\n",
              "25%                 68.632900  464.040100  452.514300  460.774900\n",
              "50%                 76.184000  489.728700  487.250100  490.225000\n",
              "75%                 87.479056  503.722000  499.814600  501.936900\n",
              "max                 98.200000  521.250600  526.424700  534.193700"
            ]
          },
          "metadata": {},
          "execution_count": 60
        }
      ]
    },
    {
      "cell_type": "code",
      "metadata": {
        "colab": {
          "base_uri": "https://localhost:8080/"
        },
        "id": "JgBzdkPq8FDE",
        "outputId": "e5680247-6fdc-46ef-db7a-0caf9d47ad42"
      },
      "source": [
        "EU.var()"
      ],
      "execution_count": 61,
      "outputs": [
        {
          "output_type": "execute_result",
          "data": {
            "text/plain": [
              "internet_users_per_100     154.399841\n",
              "Math                      1235.550805\n",
              "Reading                   1422.839540\n",
              "Science                   1186.844969\n",
              "dtype: float64"
            ]
          },
          "metadata": {},
          "execution_count": 61
        }
      ]
    },
    {
      "cell_type": "code",
      "metadata": {
        "colab": {
          "base_uri": "https://localhost:8080/",
          "height": 374
        },
        "id": "9StZ1hqu8FAc",
        "outputId": "02b741e3-c733-4310-ca5b-a7beb14365dd"
      },
      "source": [
        "fig = plt.subplots(figsize=(10, 6))\n",
        "\n",
        "sns.boxplot(data=EU);"
      ],
      "execution_count": 63,
      "outputs": [
        {
          "output_type": "display_data",
          "data": {
            "image/png": "[encoded data removed]",
            "text/plain": [
              "<Figure size 720x432 with 1 Axes>"
            ]
          },
          "metadata": {
            "needs_background": "light"
          }
        }
      ]
    },
    {
      "cell_type": "code",
      "metadata": {
        "colab": {
          "base_uri": "https://localhost:8080/",
          "height": 605
        },
        "id": "y-Y3EYog9hqp",
        "outputId": "a1f888aa-132a-43a9-d056-bf583afb9110"
      },
      "source": [
        "fig, axs = plt.subplots(2, 2, figsize=(10, 10))\n",
        "\n",
        "sns.histplot(data=EU, x=\"internet_users_per_100\", kde=True, color=\"black\", ax=axs[0, 0])\n",
        "sns.histplot(data=EU, x=\"Math\", kde=True, color=\"gray\", ax=axs[0, 1])\n",
        "sns.histplot(data=EU, x=\"Reading\", kde=True, color=\"purple\", ax=axs[1, 0])\n",
        "sns.histplot(data=EU, x=\"Science\", kde=True, color=\"blue\", ax=axs[1, 1]);"
      ],
      "execution_count": 68,
      "outputs": [
        {
          "output_type": "display_data",
          "data": {
            "image/png": "[encoded data removed]",
            "text/plain": [
              "<Figure size 720x720 with 4 Axes>"
            ]
          },
          "metadata": {
            "needs_background": "light"
          }
        }
      ]
    },
    {
      "cell_type": "code",
      "metadata": {
        "id": "x75tQbwf97-1"
      },
      "source": [
        ""
      ],
      "execution_count": null,
      "outputs": []
    },
    {
      "cell_type": "code",
      "metadata": {
        "id": "09Egm5Yl977E"
      },
      "source": [
        ""
      ],
      "execution_count": null,
      "outputs": []
    },
    {
      "cell_type": "code",
      "metadata": {
        "id": "OfmuLcoc9729"
      },
      "source": [
        ""
      ],
      "execution_count": null,
      "outputs": []
    },
    {
      "cell_type": "code",
      "metadata": {
        "id": "expKeu-d970j"
      },
      "source": [
        ""
      ],
      "execution_count": null,
      "outputs": []
    },
    {
      "cell_type": "code",
      "metadata": {
        "id": "J8WtLOyy97yH"
      },
      "source": [
        ""
      ],
      "execution_count": null,
      "outputs": []
    },
    {
      "cell_type": "code",
      "metadata": {
        "id": "jJIGn1Fy97vf"
      },
      "source": [
        ""
      ],
      "execution_count": null,
      "outputs": []
    },
    {
      "cell_type": "code",
      "metadata": {
        "id": "mm0eOcg697sR"
      },
      "source": [
        ""
      ],
      "execution_count": null,
      "outputs": []
    },
    {
      "cell_type": "code",
      "metadata": {
        "id": "PzIuGzkB97pI"
      },
      "source": [
        ""
      ],
      "execution_count": null,
      "outputs": []
    },
    {
      "cell_type": "markdown",
      "metadata": {
        "id": "28MwTO73443a"
      },
      "source": [
        "EXERCISE 4.The sample dataset has placement test scores (out of 100 points) for four subject areas: English, Reading, Math, and Writing. Students in the sample completed all 4 placement tests when they enrolled in the university. Suppose we are particularly interested in the English and Math sections, and want to determine whether students tended to score higher on their English or Math test, on average. We could use a paired t test to test if there was a significant difference in the average of the two tests.\n",
        "\n",
        "Sample Dataset 2014\n",
        "\n",
        "CHECK: statistic=36.312568981719856, pvalue=3.0710987192210606e-128"
      ]
    },
    {
      "cell_type": "code",
      "metadata": {
        "id": "CxtpaW9q474b"
      },
      "source": [
        "scores = pd.read_csv(\"students_2014 - students_2014.csv\", sep = \",\", na_values = \".\", index_col = 0)"
      ],
      "execution_count": 24,
      "outputs": []
    },
    {
      "cell_type": "code",
      "metadata": {
        "colab": {
          "base_uri": "https://localhost:8080/",
          "height": 318
        },
        "id": "UMMljo-t5F-T",
        "outputId": "26595400-2bc6-400c-8092-4d71ab217107"
      },
      "source": [
        "scores.head()"
      ],
      "execution_count": 26,
      "outputs": [
        {
          "output_type": "execute_result",
          "data": {
            "text/html": [
              "<div>\n",
              "<style scoped>\n",
              "    .dataframe tbody tr th:only-of-type {\n",
              "        vertical-align: middle;\n",
              "    }\n",
              "\n",
              "    .dataframe tbody tr th {\n",
              "        vertical-align: top;\n",
              "    }\n",
              "\n",
              "    .dataframe thead th {\n",
              "        text-align: right;\n",
              "    }\n",
              "</style>\n",
              "<table border=\"1\" class=\"dataframe\">\n",
              "  <thead>\n",
              "    <tr style=\"text-align: right;\">\n",
              "      <th></th>\n",
              "      <th>bday</th>\n",
              "      <th>enrolldate</th>\n",
              "      <th>expgradate</th>\n",
              "      <th>Rank</th>\n",
              "      <th>Major</th>\n",
              "      <th>Gender</th>\n",
              "      <th>Athlete</th>\n",
              "      <th>Height</th>\n",
              "      <th>Weight</th>\n",
              "      <th>Smoking</th>\n",
              "      <th>Sprint</th>\n",
              "      <th>MileMinDur</th>\n",
              "      <th>English</th>\n",
              "      <th>Reading</th>\n",
              "      <th>Math</th>\n",
              "      <th>Writing</th>\n",
              "      <th>State</th>\n",
              "      <th>LiveOnCampus</th>\n",
              "      <th>HowCommute</th>\n",
              "      <th>CommuteTime</th>\n",
              "      <th>SleepTime</th>\n",
              "      <th>StudyTime</th>\n",
              "    </tr>\n",
              "    <tr>\n",
              "      <th>ids</th>\n",
              "      <th></th>\n",
              "      <th></th>\n",
              "      <th></th>\n",
              "      <th></th>\n",
              "      <th></th>\n",
              "      <th></th>\n",
              "      <th></th>\n",
              "      <th></th>\n",
              "      <th></th>\n",
              "      <th></th>\n",
              "      <th></th>\n",
              "      <th></th>\n",
              "      <th></th>\n",
              "      <th></th>\n",
              "      <th></th>\n",
              "      <th></th>\n",
              "      <th></th>\n",
              "      <th></th>\n",
              "      <th></th>\n",
              "      <th></th>\n",
              "      <th></th>\n",
              "      <th></th>\n",
              "    </tr>\n",
              "  </thead>\n",
              "  <tbody>\n",
              "    <tr>\n",
              "      <th>43783</th>\n",
              "      <td>3/22/1995</td>\n",
              "      <td>NaN</td>\n",
              "      <td>NaN</td>\n",
              "      <td>NaN</td>\n",
              "      <td>NaN</td>\n",
              "      <td>0.0</td>\n",
              "      <td>0</td>\n",
              "      <td>72.35</td>\n",
              "      <td>NaN</td>\n",
              "      <td>0.0</td>\n",
              "      <td>7.978</td>\n",
              "      <td>NaN</td>\n",
              "      <td>88.24</td>\n",
              "      <td>81.50</td>\n",
              "      <td>60.02</td>\n",
              "      <td>81.44</td>\n",
              "      <td>In state</td>\n",
              "      <td>1.0</td>\n",
              "      <td>NaN</td>\n",
              "      <td>NaN</td>\n",
              "      <td>7.0</td>\n",
              "      <td>1.0</td>\n",
              "    </tr>\n",
              "    <tr>\n",
              "      <th>20278</th>\n",
              "      <td>1/1/1995</td>\n",
              "      <td>NaN</td>\n",
              "      <td>NaN</td>\n",
              "      <td>NaN</td>\n",
              "      <td>Philosophy</td>\n",
              "      <td>0.0</td>\n",
              "      <td>0</td>\n",
              "      <td>70.66</td>\n",
              "      <td>179.20</td>\n",
              "      <td>0.0</td>\n",
              "      <td>8.004</td>\n",
              "      <td>0:06:21</td>\n",
              "      <td>89.45</td>\n",
              "      <td>85.25</td>\n",
              "      <td>70.19</td>\n",
              "      <td>73.27</td>\n",
              "      <td>NaN</td>\n",
              "      <td>1.0</td>\n",
              "      <td>NaN</td>\n",
              "      <td>NaN</td>\n",
              "      <td>5.0</td>\n",
              "      <td>2.0</td>\n",
              "    </tr>\n",
              "    <tr>\n",
              "      <th>20389</th>\n",
              "      <td>12/31/1994</td>\n",
              "      <td>NaN</td>\n",
              "      <td>NaN</td>\n",
              "      <td>NaN</td>\n",
              "      <td>NaN</td>\n",
              "      <td>0.0</td>\n",
              "      <td>0</td>\n",
              "      <td>70.68</td>\n",
              "      <td>198.52</td>\n",
              "      <td>0.0</td>\n",
              "      <td>NaN</td>\n",
              "      <td>0:07:00</td>\n",
              "      <td>96.73</td>\n",
              "      <td>86.88</td>\n",
              "      <td>71.20</td>\n",
              "      <td>84.24</td>\n",
              "      <td>In state</td>\n",
              "      <td>NaN</td>\n",
              "      <td>NaN</td>\n",
              "      <td>NaN</td>\n",
              "      <td>8.0</td>\n",
              "      <td>7.0</td>\n",
              "    </tr>\n",
              "    <tr>\n",
              "      <th>22820</th>\n",
              "      <td>12/1/1994</td>\n",
              "      <td>NaN</td>\n",
              "      <td>NaN</td>\n",
              "      <td>NaN</td>\n",
              "      <td>business administration</td>\n",
              "      <td>1.0</td>\n",
              "      <td>0</td>\n",
              "      <td>NaN</td>\n",
              "      <td>198.34</td>\n",
              "      <td>NaN</td>\n",
              "      <td>8.473</td>\n",
              "      <td>0:12:44</td>\n",
              "      <td>74.06</td>\n",
              "      <td>88.68</td>\n",
              "      <td>55.89</td>\n",
              "      <td>73.16</td>\n",
              "      <td>In state</td>\n",
              "      <td>1.0</td>\n",
              "      <td>NaN</td>\n",
              "      <td>NaN</td>\n",
              "      <td>2.0</td>\n",
              "      <td>6.0</td>\n",
              "    </tr>\n",
              "    <tr>\n",
              "      <th>24559</th>\n",
              "      <td>11/10/1994</td>\n",
              "      <td>NaN</td>\n",
              "      <td>NaN</td>\n",
              "      <td>NaN</td>\n",
              "      <td>NaN</td>\n",
              "      <td>1.0</td>\n",
              "      <td>1</td>\n",
              "      <td>67.43</td>\n",
              "      <td>128.17</td>\n",
              "      <td>2.0</td>\n",
              "      <td>NaN</td>\n",
              "      <td>0:06:25</td>\n",
              "      <td>82.61</td>\n",
              "      <td>77.30</td>\n",
              "      <td>65.52</td>\n",
              "      <td>80.45</td>\n",
              "      <td>Out of state</td>\n",
              "      <td>1.0</td>\n",
              "      <td>NaN</td>\n",
              "      <td>NaN</td>\n",
              "      <td>7.0</td>\n",
              "      <td>3.0</td>\n",
              "    </tr>\n",
              "  </tbody>\n",
              "</table>\n",
              "</div>"
            ],
            "text/plain": [
              "             bday enrolldate expgradate  ...  CommuteTime SleepTime  StudyTime\n",
              "ids                                      ...                                  \n",
              "43783   3/22/1995        NaN        NaN  ...          NaN       7.0        1.0\n",
              "20278    1/1/1995        NaN        NaN  ...          NaN       5.0        2.0\n",
              "20389  12/31/1994        NaN        NaN  ...          NaN       8.0        7.0\n",
              "22820   12/1/1994        NaN        NaN  ...          NaN       2.0        6.0\n",
              "24559  11/10/1994        NaN        NaN  ...          NaN       7.0        3.0\n",
              "\n",
              "[5 rows x 22 columns]"
            ]
          },
          "metadata": {},
          "execution_count": 26
        }
      ]
    },
    {
      "cell_type": "code",
      "metadata": {
        "colab": {
          "base_uri": "https://localhost:8080/"
        },
        "id": "XZ64DDjN5KTh",
        "outputId": "cd652731-0089-4134-cbdd-c16d532aa4ca"
      },
      "source": [
        "scores[[\"English\", \"Math\"]].isnull().value_counts()"
      ],
      "execution_count": 27,
      "outputs": [
        {
          "output_type": "execute_result",
          "data": {
            "text/plain": [
              "English  Math \n",
              "False    False    398\n",
              "True     False     24\n",
              "False    True      11\n",
              "True     True       2\n",
              "dtype: int64"
            ]
          },
          "metadata": {},
          "execution_count": 27
        }
      ]
    },
    {
      "cell_type": "code",
      "metadata": {
        "id": "7cIkFKen5MZS"
      },
      "source": [
        "df_scoresdrop = scores[[\"English\", \"Math\"]].dropna()"
      ],
      "execution_count": 28,
      "outputs": []
    },
    {
      "cell_type": "code",
      "metadata": {
        "colab": {
          "base_uri": "https://localhost:8080/"
        },
        "id": "oN9Tfzft5M2D",
        "outputId": "36a749a4-1ef4-4e03-8d7a-4aa4daeecbd0"
      },
      "source": [
        "df_scoresdrop.info()"
      ],
      "execution_count": 29,
      "outputs": [
        {
          "output_type": "stream",
          "name": "stdout",
          "text": [
            "<class 'pandas.core.frame.DataFrame'>\n",
            "Int64Index: 398 entries, 43783 to 39298\n",
            "Data columns (total 2 columns):\n",
            " #   Column   Non-Null Count  Dtype  \n",
            "---  ------   --------------  -----  \n",
            " 0   English  398 non-null    float64\n",
            " 1   Math     398 non-null    float64\n",
            "dtypes: float64(2)\n",
            "memory usage: 9.3 KB\n"
          ]
        }
      ]
    },
    {
      "cell_type": "code",
      "metadata": {
        "colab": {
          "base_uri": "https://localhost:8080/",
          "height": 294
        },
        "id": "sMNlQFP85Ofa",
        "outputId": "636f9ca6-9025-4d95-b42d-22b944ba4573"
      },
      "source": [
        "scores[[\"English\", \"Math\"]].describe()"
      ],
      "execution_count": 30,
      "outputs": [
        {
          "output_type": "execute_result",
          "data": {
            "text/html": [
              "<div>\n",
              "<style scoped>\n",
              "    .dataframe tbody tr th:only-of-type {\n",
              "        vertical-align: middle;\n",
              "    }\n",
              "\n",
              "    .dataframe tbody tr th {\n",
              "        vertical-align: top;\n",
              "    }\n",
              "\n",
              "    .dataframe thead th {\n",
              "        text-align: right;\n",
              "    }\n",
              "</style>\n",
              "<table border=\"1\" class=\"dataframe\">\n",
              "  <thead>\n",
              "    <tr style=\"text-align: right;\">\n",
              "      <th></th>\n",
              "      <th>English</th>\n",
              "      <th>Math</th>\n",
              "    </tr>\n",
              "  </thead>\n",
              "  <tbody>\n",
              "    <tr>\n",
              "      <th>count</th>\n",
              "      <td>409.000000</td>\n",
              "      <td>422.000000</td>\n",
              "    </tr>\n",
              "    <tr>\n",
              "      <th>mean</th>\n",
              "      <td>82.787555</td>\n",
              "      <td>65.468009</td>\n",
              "    </tr>\n",
              "    <tr>\n",
              "      <th>std</th>\n",
              "      <td>6.839803</td>\n",
              "      <td>8.375930</td>\n",
              "    </tr>\n",
              "    <tr>\n",
              "      <th>min</th>\n",
              "      <td>59.830000</td>\n",
              "      <td>35.320000</td>\n",
              "    </tr>\n",
              "    <tr>\n",
              "      <th>25%</th>\n",
              "      <td>78.330000</td>\n",
              "      <td>60.202500</td>\n",
              "    </tr>\n",
              "    <tr>\n",
              "      <th>50%</th>\n",
              "      <td>83.150000</td>\n",
              "      <td>65.445000</td>\n",
              "    </tr>\n",
              "    <tr>\n",
              "      <th>75%</th>\n",
              "      <td>87.170000</td>\n",
              "      <td>70.567500</td>\n",
              "    </tr>\n",
              "    <tr>\n",
              "      <th>max</th>\n",
              "      <td>101.950000</td>\n",
              "      <td>93.780000</td>\n",
              "    </tr>\n",
              "  </tbody>\n",
              "</table>\n",
              "</div>"
            ],
            "text/plain": [
              "          English        Math\n",
              "count  409.000000  422.000000\n",
              "mean    82.787555   65.468009\n",
              "std      6.839803    8.375930\n",
              "min     59.830000   35.320000\n",
              "25%     78.330000   60.202500\n",
              "50%     83.150000   65.445000\n",
              "75%     87.170000   70.567500\n",
              "max    101.950000   93.780000"
            ]
          },
          "metadata": {},
          "execution_count": 30
        }
      ]
    },
    {
      "cell_type": "code",
      "metadata": {
        "colab": {
          "base_uri": "https://localhost:8080/"
        },
        "id": "W6uDC_4P5QNC",
        "outputId": "11988e57-dceb-4761-c399-907438412bd3"
      },
      "source": [
        "Eng_av =scores['English'].mean()\n",
        "Eng_av"
      ],
      "execution_count": 31,
      "outputs": [
        {
          "output_type": "execute_result",
          "data": {
            "text/plain": [
              "82.78755501222493"
            ]
          },
          "metadata": {},
          "execution_count": 31
        }
      ]
    },
    {
      "cell_type": "code",
      "metadata": {
        "colab": {
          "base_uri": "https://localhost:8080/"
        },
        "id": "rsSfF8Oq5Tia",
        "outputId": "6077629c-4c63-48fa-d179-15a9174a6640"
      },
      "source": [
        "Math_av = df_scores['Math'].mean()\n",
        "Math_av"
      ],
      "execution_count": 32,
      "outputs": [
        {
          "output_type": "execute_result",
          "data": {
            "text/plain": [
              "65.46800947867297"
            ]
          },
          "metadata": {},
          "execution_count": 32
        }
      ]
    },
    {
      "cell_type": "code",
      "metadata": {
        "colab": {
          "base_uri": "https://localhost:8080/"
        },
        "id": "q6MP5cgx5WGp",
        "outputId": "662b8383-aa9a-4962-c4a0-986bfb01e039"
      },
      "source": [
        "meandiff = Eng_av - Math_av\n",
        "meandiff"
      ],
      "execution_count": 33,
      "outputs": [
        {
          "output_type": "execute_result",
          "data": {
            "text/plain": [
              "17.31954553355196"
            ]
          },
          "metadata": {},
          "execution_count": 33
        }
      ]
    },
    {
      "cell_type": "code",
      "metadata": {
        "colab": {
          "base_uri": "https://localhost:8080/"
        },
        "id": "1KTeU3Kx5Z8D",
        "outputId": "923ae0a8-a49c-413c-f976-0aebe17bd871"
      },
      "source": [
        "stats.ttest_ind(scores.dropna()[\"English\"], scores.dropna()[\"Math\"])"
      ],
      "execution_count": 41,
      "outputs": [
        {
          "output_type": "execute_result",
          "data": {
            "text/plain": [
              "Ttest_indResult(statistic=10.787205641803522, pvalue=1.1746036768217507e-18)"
            ]
          },
          "metadata": {},
          "execution_count": 41
        }
      ]
    },
    {
      "cell_type": "code",
      "metadata": {
        "colab": {
          "base_uri": "https://localhost:8080/"
        },
        "id": "pdB_Hfq75cOK",
        "outputId": "4ce530ed-6531-48a8-fc7b-31c60831d2b5"
      },
      "source": [
        "paired = stats.ttest_rel(scores[\"English\"], scores[\"Math\"], nan_policy='omit')\n",
        "paired"
      ],
      "execution_count": 42,
      "outputs": [
        {
          "output_type": "execute_result",
          "data": {
            "text/plain": [
              "Ttest_relResult(statistic=36.31256898171986, pvalue=3.071098719220689e-128)"
            ]
          },
          "metadata": {},
          "execution_count": 42
        }
      ]
    },
    {
      "cell_type": "code",
      "metadata": {
        "colab": {
          "base_uri": "https://localhost:8080/"
        },
        "id": "YrS4hG7i5cDI",
        "outputId": "96c54787-cc6a-4fb2-f05e-b21ceec7dae1"
      },
      "source": [
        "t = paired.statistic\n",
        "t"
      ],
      "execution_count": 43,
      "outputs": [
        {
          "output_type": "execute_result",
          "data": {
            "text/plain": [
              "36.31256898171986"
            ]
          },
          "metadata": {},
          "execution_count": 43
        }
      ]
    },
    {
      "cell_type": "code",
      "metadata": {
        "colab": {
          "base_uri": "https://localhost:8080/"
        },
        "id": "lH1NNkcl5fRh",
        "outputId": "943c3b0d-bc02-4f61-ab2e-7594c076188e"
      },
      "source": [
        "pvalue= paired.pvalue\n",
        "pvalue"
      ],
      "execution_count": 44,
      "outputs": [
        {
          "output_type": "execute_result",
          "data": {
            "text/plain": [
              "3.071098719220689e-128"
            ]
          },
          "metadata": {},
          "execution_count": 44
        }
      ]
    },
    {
      "cell_type": "code",
      "metadata": {
        "colab": {
          "base_uri": "https://localhost:8080/"
        },
        "id": "eUu8Phqq6nlP",
        "outputId": "66f9fd9d-8257-4077-c42c-040507c2d615"
      },
      "source": [
        "critical_pvalue = 0.025\n",
        "\n",
        "if pvalue < critical_pvalue:\n",
        "    print(\"Reject the Null\")\n",
        "else:\n",
        "    print(\"Fail to reject\")"
      ],
      "execution_count": 45,
      "outputs": [
        {
          "output_type": "stream",
          "name": "stdout",
          "text": [
            "Reject the Null\n"
          ]
        }
      ]
    }
  ]
}