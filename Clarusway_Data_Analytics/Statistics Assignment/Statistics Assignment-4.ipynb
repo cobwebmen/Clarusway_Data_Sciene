{
 "cells": [
  {
   "cell_type": "markdown",
   "id": "31bb5b30-d096-4942-bbd0-19c802c60567",
   "metadata": {},
   "source": [
    "\n",
    "EXERCISE 1.\n",
    "Answer the following questions by looking at the distribution table or coding with Python.\n",
    "\n",
    "A salesperson has found that the probability of a sale on a single contact is approximately .03. If the salesperson contacts 100 prospects, what is the approximate probability of making at least one sale? (Wackerly, Ex.3.135)"
   ]
  },
  {
   "cell_type": "code",
   "execution_count": 1,
   "id": "cc2d371d-426d-46fb-819c-d07c4fd25eb0",
   "metadata": {},
   "outputs": [],
   "source": [
    "import numpy as np\n",
    "import pandas as pd\n",
    "from scipy import stats\n",
    "import matplotlib.pyplot as plt"
   ]
  },
  {
   "cell_type": "code",
   "execution_count": 2,
   "id": "80f7598c-0f41-4039-a46e-6d5390c00e92",
   "metadata": {},
   "outputs": [
    {
     "data": {
      "text/plain": [
       "0.9524474920745942"
      ]
     },
     "execution_count": 2,
     "metadata": {},
     "output_type": "execute_result"
    }
   ],
   "source": [
    "\n",
    "n = 100\n",
    "p = 0.03\n",
    "x = 0\n",
    "1-stats.binom.pmf(x,n,p)"
   ]
  },
  {
   "cell_type": "markdown",
   "id": "6aaa98ba-ebea-41c2-96dc-f9f6ec67022e",
   "metadata": {},
   "source": [
    "2.\tTen coins are tossed simultaneously. Find the probability of getting\n",
    "\n",
    "(i) at least seven heads\n"
   ]
  },
  {
   "cell_type": "code",
   "execution_count": 3,
   "id": "357ff802-1444-4ff1-8686-9138ea5ee537",
   "metadata": {},
   "outputs": [
    {
     "data": {
      "text/plain": [
       "0.171875"
      ]
     },
     "execution_count": 3,
     "metadata": {},
     "output_type": "execute_result"
    }
   ],
   "source": [
    "n = 10\n",
    "p = 0.5\n",
    "x = 6\n",
    "1-stats.binom.cdf(x,n,p)"
   ]
  },
  {
   "cell_type": "markdown",
   "id": "0c871c2b-c7b2-479f-be44-968d9b3d1cf2",
   "metadata": {},
   "source": [
    "(ii) exactly seven heads"
   ]
  },
  {
   "cell_type": "code",
   "execution_count": 4,
   "id": "a743577b-182f-4ff4-86e2-eac489693a5a",
   "metadata": {},
   "outputs": [
    {
     "data": {
      "text/plain": [
       "0.11718750000000014"
      ]
     },
     "execution_count": 4,
     "metadata": {},
     "output_type": "execute_result"
    }
   ],
   "source": [
    "x = 7\n",
    "stats.binom.pmf(x,n,p)"
   ]
  },
  {
   "cell_type": "markdown",
   "id": "7eca1b90-def2-4269-8961-75898af0b61f",
   "metadata": {},
   "source": [
    "(iii)at most seven heads"
   ]
  },
  {
   "cell_type": "code",
   "execution_count": 5,
   "id": "43f3ee78-5efc-4a7e-984b-4d6daa66d27a",
   "metadata": {},
   "outputs": [
    {
     "data": {
      "text/plain": [
       "0.9453125"
      ]
     },
     "execution_count": 5,
     "metadata": {},
     "output_type": "execute_result"
    }
   ],
   "source": [
    "x = 7\n",
    "stats.binom.cdf(x,n, p)"
   ]
  },
  {
   "cell_type": "markdown",
   "id": "569ad417-9e65-4b04-bcd7-22960fb7e680",
   "metadata": {},
   "source": [
    "EXERCISE 2. \n",
    "The cycle time for trucks hauling concrete to a highway construction site is uniformly distributed over the interval 50 to 70 minutes. What is the probability that the cycle time exceeds 65 minutes  if it is known that the cycle time exceeds 55 minutes? (Wackerly, Ex.4.51)\n"
   ]
  },
  {
   "cell_type": "code",
   "execution_count": 6,
   "id": "0b9f4412-4550-4cee-8e91-f750bff46341",
   "metadata": {},
   "outputs": [
    {
     "data": {
      "text/plain": [
       "0.25"
      ]
     },
     "execution_count": 6,
     "metadata": {},
     "output_type": "execute_result"
    }
   ],
   "source": [
    "\n",
    "x, y  = 50, 70\n",
    "Dist = stats.uniform(x,y-x)\n",
    "\n",
    "# A:\n",
    "pA=1-Dist.cdf(65)\n",
    "pA"
   ]
  },
  {
   "cell_type": "code",
   "execution_count": 7,
   "id": "23b2d11a-1367-4cfb-a651-76e2c2ad1367",
   "metadata": {},
   "outputs": [
    {
     "data": {
      "text/plain": [
       "0.75"
      ]
     },
     "execution_count": 7,
     "metadata": {},
     "output_type": "execute_result"
    }
   ],
   "source": [
    "\n",
    "# B:\n",
    "\n",
    "pB=1-Dist.cdf(55)\n",
    "pB"
   ]
  },
  {
   "cell_type": "code",
   "execution_count": 11,
   "id": "9a4fb0d8-8a81-4208-9001-83b1410e4c79",
   "metadata": {},
   "outputs": [
    {
     "data": {
      "text/plain": [
       "0.33"
      ]
     },
     "execution_count": 11,
     "metadata": {},
     "output_type": "execute_result"
    }
   ],
   "source": [
    "# p(A | B ) = p(A n B)/p( B )\n",
    "# p(A n B) = p( A ) \n",
    "pAB=pA/pB\n",
    "round(pAB, 2)"
   ]
  },
  {
   "cell_type": "markdown",
   "id": "a5cf05d1-5f52-4a46-87bf-700f1437ba35",
   "metadata": {},
   "source": [
    "EXERCISE 3. \n",
    "The width of bolts of fabric is normally distributed with mean 950 mm (millimeters) and standard deviation 10 mm.\n",
    "1.\tWhat is the probability that a randomly chosen bolt has a width of between 947 and 958mm?\n"
   ]
  },
  {
   "cell_type": "code",
   "execution_count": 13,
   "id": "a14f25e1-3244-4f0a-897e-f74ee1e69e6a",
   "metadata": {},
   "outputs": [],
   "source": [
    "mu=950\n",
    "sigma=10"
   ]
  },
  {
   "cell_type": "code",
   "execution_count": 16,
   "id": "f841c645-94a4-486f-b73d-20ae580cd8fd",
   "metadata": {},
   "outputs": [
    {
     "data": {
      "text/plain": [
       "0.406"
      ]
     },
     "execution_count": 16,
     "metadata": {},
     "output_type": "execute_result"
    }
   ],
   "source": [
    "round((stats.norm.cdf(958,mu,sigma)-stats.norm.cdf(947,mu,sigma)),3)"
   ]
  },
  {
   "cell_type": "markdown",
   "id": "49352931-be45-4d39-9e81-3710fa2ac85f",
   "metadata": {},
   "source": [
    "2.\tWhat is the appropriate value for C such that a randomly chosen bolt has a width less than C with probability .8531? (Wackerly, Ex.4.73)"
   ]
  },
  {
   "cell_type": "code",
   "execution_count": 17,
   "id": "5cbc0758-381c-4de9-b807-dd0b793fe538",
   "metadata": {},
   "outputs": [
    {
     "data": {
      "text/plain": [
       "960.4982190962642"
      ]
     },
     "execution_count": 17,
     "metadata": {},
     "output_type": "execute_result"
    }
   ],
   "source": [
    "stats.norm.ppf(0.8531,mu,sigma)"
   ]
  },
  {
   "cell_type": "markdown",
   "id": "80136a78-f00e-451d-9a73-be4323e210ef",
   "metadata": {},
   "source": [
    "EXERCISE 4. \n",
    "Suppose scores on exams in statistics are normally distributed with an unknown population mean and a population standard deviation of 3 points. A random sample of 36 scores is taken and gives a sample mean (sample mean score) of 68. Find a confidence interval estimate for the population mean exam score (the mean score on all exams). Find a 90% confidence interval for the true (population) mean of statistics exam scores.\n"
   ]
  },
  {
   "cell_type": "code",
   "execution_count": 18,
   "id": "d80d6327-b62d-47f8-a202-6677c33b1349",
   "metadata": {},
   "outputs": [
    {
     "data": {
      "text/plain": [
       "(67.17757318652427, 68.82242681347573)"
      ]
     },
     "execution_count": 18,
     "metadata": {},
     "output_type": "execute_result"
    }
   ],
   "source": [
    "\n",
    "sigma = 3\n",
    "n = 36\n",
    "xbar = 68\n",
    "cl = 0.90\n",
    "\n",
    "stats.norm.interval(alpha=cl, loc=xbar, scale=sigma/np.sqrt(n))"
   ]
  },
  {
   "cell_type": "markdown",
   "id": "2d6cabd4-ee07-4bcf-92fd-d9422c1ed317",
   "metadata": {},
   "source": [
    "EXERCISE 5.  \n",
    "What is the normal body temperature for healthy humans? A random sample of 130 healthy human body temperatures provided by Allen Shoemaker yielded 98.25 degrees and standard deviation 0.73 degrees.\n",
    "1.\tGive a 99% confidence interval for the average body temperature of healthy people.\n"
   ]
  },
  {
   "cell_type": "code",
   "execution_count": 19,
   "id": "95821d1e-6524-4338-8a7f-f1010fd404cc",
   "metadata": {},
   "outputs": [
    {
     "data": {
      "text/plain": [
       "(98.08508192246582, 98.41491807753418)"
      ]
     },
     "execution_count": 19,
     "metadata": {},
     "output_type": "execute_result"
    }
   ],
   "source": [
    "n = 130\n",
    "xbar = 98.25\n",
    "s = 0.73\n",
    "cl = 0.99\n",
    "\n",
    "stats.norm.interval(alpha=cl, loc=xbar, scale=s/np.sqrt(n))"
   ]
  },
  {
   "cell_type": "markdown",
   "id": "0bbb1ad6-ebd2-47c0-88b7-13a327c0b385",
   "metadata": {},
   "source": [
    "2.\tDoes the confidence interval obtained in part (a) contain the value 98.6 degrees, the accepted average temperature cited by physicians and others? What conclusions can you draw? (Wackerly, Ex.8.60)"
   ]
  },
  {
   "cell_type": "markdown",
   "id": "0498b054-c4b3-4d7c-ba68-305cf53d1fa1",
   "metadata": {},
   "source": [
    "No, we wouldn't say it contains it. In this case, it is possible that the standard for normal is no longer valid."
   ]
  },
  {
   "cell_type": "code",
   "execution_count": null,
   "id": "bd2393a4-27df-419b-adab-fe4e7dcaf91d",
   "metadata": {},
   "outputs": [],
   "source": []
  }
 ],
 "metadata": {
  "kernelspec": {
   "display_name": "Python 3",
   "language": "python",
   "name": "python3"
  },
  "language_info": {
   "codemirror_mode": {
    "name": "ipython",
    "version": 3
   },
   "file_extension": ".py",
   "mimetype": "text/x-python",
   "name": "python",
   "nbconvert_exporter": "python",
   "pygments_lexer": "ipython3",
   "version": "3.8.8"
  }
 },
 "nbformat": 4,
 "nbformat_minor": 5
}
